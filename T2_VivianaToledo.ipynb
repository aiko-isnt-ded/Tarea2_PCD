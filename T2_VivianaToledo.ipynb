{
 "cells": [
  {
   "cell_type": "markdown",
   "id": "faf67399",
   "metadata": {},
   "source": [
    "___\n",
    "<img style=\"float: right; margin: 15px 15px 15px 15px;\" src=\"https://external-content.duckduckgo.com/iu/?u=https%3A%2F%2Fwww.datascience-pm.com%2Fwp-content%2Fuploads%2F2021%2F06%2Fml-ops-venn-diagram-600.png&f=1&nofb=1&ipt=d627171ef099ca8a5bb250968b0fcf17c9d4b9bea6e77038c77c3a9e89b455aa\" width=\"200px\" height=\"180px\" />\n",
    "\n",
    "\n",
    "# <font color= #8FC3FA> **Machine Learning Operations** </font>\n",
    "#### <font color= #2E9AFE> `Proyecto de Ciencia de Datos - Tarea 2`</font>\n",
    "- <Strong> Viviana Toledo </Strong>\n",
    "- <Strong> Fecha: </Strong> 02/09/2025\n",
    "\n",
    "___\n",
    "\n",
    "<p style=\"text-align:right;\"> Imagen recuperada de: https://external-content.duckduckgo.com/iu/?u=https%3A%2F%2Fwww.datascience-pm.com%2Fwp-content%2Fuploads%2F2021%2F06%2Fml-ops-venn-diagram-600.png&f=1&nofb=1&ipt=d627171ef099ca8a5bb250968b0fcf17c9d4b9bea6e77038c77c3a9e89b455aa</p>"
   ]
  },
  {
   "cell_type": "markdown",
   "id": "787194d7",
   "metadata": {},
   "source": [
    "## <font color= #8FC3FA> **¿Qué son?** </font>\n",
    "\n",
    "Función principal de la ingeniería en Machine Learning que se encarga de `coordinar el proceso de desplegar modelos de Machine Learning`, abarcando la producción, mantenimiento y monitoreo. Esta tarea se lleva a cabo de manera colaborativa, de la mano de científicos de datos, developers e informáticos. "
   ]
  },
  {
   "cell_type": "markdown",
   "id": "649955d4",
   "metadata": {},
   "source": [
    "## <font color= #8FC3FA> **Justificación y Objetivos** </font>\n",
    "\n",
    "Las Machine Learning Operations (MLOps) son útiles para crear modelos de aprendizaje automático e inteligencia artificial (IA), pues se `integran prácticas continuas de desarrollo, monitoreo y validación de algoritmos de Machine Learning` (ML).\n",
    "\n",
    "Las MLOps surgen a partir de la necesidad de llevar un control de los procesos que intervienen en la creación de modelos de ML:\n",
    "\n",
    "- Ingesta de Datos\n",
    "- Limpieza y Preparación de Datos\n",
    "- Entrenamiento del Modelo\n",
    "- Ajuste del Modelo\n",
    "- Desplegado del Modelo\n",
    "- Monitoreo del Modelo\n",
    "- Explicabilidad\n",
    "- Reentrenamiento del Modelo\n",
    "- ...\n",
    "\n",
    "La variedad de campos que intervienen en este flujo de trabajo requiere el `uso de MLOps para eficientar, escalar y reducir los riesgos asociados al despliegue de modelos de ML e IA`.\n",
    "\n",
    "Específicamente, las MLOps `permiten la implementación de pipelines de desarrollo que repliquen procesos de despliegue de modelos de alta calidad, a alta velocidad y a alta demanda`."
   ]
  },
  {
   "cell_type": "markdown",
   "id": "f0135e26",
   "metadata": {},
   "source": [
    "## <font color= #8FC3FA> **Diferencia entre MLOps y DevOps** </font>\n",
    "\n",
    "Ambas son prácticas que tienen como objetivo mejorar los procesos en los que se desarrollan, implementan y monitorean aplicaciones para mejorar la calidad del software. Sin embargo, las MLOps son un `conjunto de prácticas recomendadas que se establecieron para proyectos de ML`. Este último se centra en automatizar el ciclo de vida del despliegue del modelo, `incorporando los principios de DevOps al ML`."
   ]
  },
  {
   "cell_type": "markdown",
   "id": "ecf6a4ee",
   "metadata": {},
   "source": [
    "## <font color= #8FC3FA> **Infraestructura de Producción de ML** </font>\n",
    "\n",
    "<img style=\"float: right; margin: 15px 15px 15px 15px;\" src=\"https://towardsdatascience.com/wp-content/uploads/2021/09/15bzbexO-yyuLgrqlXFdJ_g-1024x356.png\" width=\"400px\" height=\"180px\" />\n",
    "\n",
    "Si bien la parte de Machine Learning en un proyecto puede ser pequeña, los `principios de MLOps están presentes en casi todo el proceso`, automatizando las áreas de trabajo. Para la extracción de datos y características útiles, es posible iterar el recolectado, limpiado y visualizado de datos. \n",
    "\n",
    "Posteriormente, la parte de definición del pipeline permite la `creación de código flexible y reutilizable, que acelera el despliegue y publicación de aplicaciones y servicios potenciados por ML e IA`. Una vez implementado el servicio, se procede a evaluar los resultados, reentrenar el modelo y monitorear o corregir errores. \n",
    "\n",
    "\n",
    "\n",
    "Imagen recuperada de: https://towardsdatascience.com/wp-content/uploads/2021/09/15bzbexO-yyuLgrqlXFdJ_g-1024x356.png"
   ]
  },
  {
   "cell_type": "markdown",
   "id": "5ffd38ef",
   "metadata": {},
   "source": [
    "----\n",
    "\n",
    "## <font color= #8FC3FA> **Bibliografía** </font>\n",
    "\n",
    "- Databricks. (s.f.) _MLOps_. Databricks. https://www.databricks.com/glossary/mlops\n",
    "- Nayak, Y. (2021, 27 de septiembre) _A Gentle Introduction to MLOps_. towards data science. https://towardsdatascience.com/a-gentle-introduction-to-mlops-7d64a3e890ff"
   ]
  }
 ],
 "metadata": {
  "language_info": {
   "name": "python"
  }
 },
 "nbformat": 4,
 "nbformat_minor": 5
}
