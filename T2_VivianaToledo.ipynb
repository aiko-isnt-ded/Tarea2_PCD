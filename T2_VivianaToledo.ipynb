{
 "cells": [
  {
   "cell_type": "markdown",
   "id": "faf67399",
   "metadata": {},
   "source": [
    "___\n",
    "<img style=\"float: right; margin: 15px 15px 15px 15px;\" src=\"https://external-content.duckduckgo.com/iu/?u=https%3A%2F%2Fwww.datascience-pm.com%2Fwp-content%2Fuploads%2F2021%2F06%2Fml-ops-venn-diagram-600.png&f=1&nofb=1&ipt=d627171ef099ca8a5bb250968b0fcf17c9d4b9bea6e77038c77c3a9e89b455aa\" width=\"200px\" height=\"180px\" />\n",
    "\n",
    "\n",
    "# <font color= #8FC3FA> **Machine Learning Operations** </font>\n",
    "#### <font color= #2E9AFE> `Proyecto de Ciencia de Datos - Tarea 2`</font>\n",
    "- <Strong> Viviana Toledo </Strong>\n",
    "- <Strong> Fecha: </Strong> 02/09/2025\n",
    "\n",
    "___\n",
    "\n",
    "<p style=\"text-align:right;\"> Imagen recuperada de: https://external-content.duckduckgo.com/iu/?u=https%3A%2F%2Fwww.datascience-pm.com%2Fwp-content%2Fuploads%2F2021%2F06%2Fml-ops-venn-diagram-600.png&f=1&nofb=1&ipt=d627171ef099ca8a5bb250968b0fcf17c9d4b9bea6e77038c77c3a9e89b455aa</p>"
   ]
  },
  {
   "cell_type": "markdown",
   "id": "787194d7",
   "metadata": {},
   "source": [
    "## <font color= #8FC3FA> **¿Qué son?** </font>\n",
    "\n",
    "Función principal de la ingeniería en Machine Learning que se encarga de `coordinar el proceso de desplegar modelos de Machine Learning`, abarcando la producción, mantenimiento y monitoreo. Esta tarea se lleva a cabo de manera colaborativa, de la mano de científicos de datos, developers e informáticos. "
   ]
  },
  {
   "cell_type": "markdown",
   "id": "649955d4",
   "metadata": {},
   "source": [
    "## <font color= #8FC3FA> **Justificación y Objetivos** </font>\n",
    "\n",
    "Las Machine Learning Operations (MLOps) son útiles para crear modelos de aprendizaje automático e inteligencia artificial (IA), pues se `integran prácticas continuas de desarrollo, monitoreo y validación de algoritmos de Machine Learning` (ML).\n",
    "\n",
    "Las MLOps surgen a partir de la necesidad de llevar un control de los procesos que intervienen en la creación de modelos de ML:\n",
    "\n",
    "- Ingesta de Datos\n",
    "- Limpieza y Preparación de Datos\n",
    "- Entrenamiento del Modelo\n",
    "- Ajuste del Modelo\n",
    "- Desplegado del Modelo\n",
    "- Monitoreo del Modelo\n",
    "- Explicabilidad\n",
    "- ...\n",
    "\n",
    "La variedad de campos que intervienen en este flujo de trabajo requiere el `uso de MLOps para eficientar, escalar y reducir los riesgos asociados al despliegue de modelos de ML e IA`.\n",
    "\n",
    "Específicamente, las MLOps `permiten la implementación de pipelines de desarrollo que repliquen procesos de despliegue de modelos de alta calidad, a alta velocidad y a alta demanda`."
   ]
  }
 ],
 "metadata": {
  "language_info": {
   "name": "python"
  }
 },
 "nbformat": 4,
 "nbformat_minor": 5
}
