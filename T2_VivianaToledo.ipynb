{
 "cells": [
  {
   "cell_type": "markdown",
   "id": "faf67399",
   "metadata": {},
   "source": [
    "___\n",
    "<img style=\"float: right; margin: 15px 15px 15px 15px;\" src=\"https://external-content.duckduckgo.com/iu/?u=https%3A%2F%2Fwww.datascience-pm.com%2Fwp-content%2Fuploads%2F2021%2F06%2Fml-ops-venn-diagram-600.png&f=1&nofb=1&ipt=d627171ef099ca8a5bb250968b0fcf17c9d4b9bea6e77038c77c3a9e89b455aa\" width=\"200px\" height=\"180px\" />\n",
    "\n",
    "\n",
    "# <font color= #8FC3FA> **Machine Learning Operations** </font>\n",
    "#### <font color= #2E9AFE> `Proyecto de Ciencia de Datos - Tarea 2`</font>\n",
    "- <Strong> Viviana Toledo </Strong>\n",
    "- <Strong> Fecha: </Strong> 02/09/2025\n",
    "\n",
    "___\n",
    "\n",
    "<p style=\"text-align:right;\"> Imagen recuperada de: https://external-content.duckduckgo.com/iu/?u=https%3A%2F%2Fwww.datascience-pm.com%2Fwp-content%2Fuploads%2F2021%2F06%2Fml-ops-venn-diagram-600.png&f=1&nofb=1&ipt=d627171ef099ca8a5bb250968b0fcf17c9d4b9bea6e77038c77c3a9e89b455aa</p>"
   ]
  }
 ],
 "metadata": {
  "language_info": {
   "name": "python"
  }
 },
 "nbformat": 4,
 "nbformat_minor": 5
}
