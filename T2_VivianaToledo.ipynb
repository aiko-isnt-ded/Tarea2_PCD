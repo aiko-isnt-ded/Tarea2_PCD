{
 "cells": [
  {
   "cell_type": "markdown",
   "id": "faf67399",
   "metadata": {},
   "source": [
    "___\n",
    "<img style=\"float: right; margin: 15px 15px 15px 15px;\" src=\"https://external-content.duckduckgo.com/iu/?u=https%3A%2F%2Fwww.datascience-pm.com%2Fwp-content%2Fuploads%2F2021%2F06%2Fml-ops-venn-diagram-600.png&f=1&nofb=1&ipt=d627171ef099ca8a5bb250968b0fcf17c9d4b9bea6e77038c77c3a9e89b455aa\" width=\"200px\" height=\"180px\" />\n",
    "\n",
    "\n",
    "# <font color= #8FC3FA> **Machine Learning Operations** </font>\n",
    "#### <font color= #2E9AFE> `Proyecto de Ciencia de Datos - Tarea 2`</font>\n",
    "- <Strong> Viviana Toledo </Strong>\n",
    "- <Strong> Fecha: </Strong> 02/09/2025\n",
    "\n",
    "___\n",
    "\n",
    "<p style=\"text-align:right;\"> Imagen recuperada de: https://external-content.duckduckgo.com/iu/?u=https%3A%2F%2Fwww.datascience-pm.com%2Fwp-content%2Fuploads%2F2021%2F06%2Fml-ops-venn-diagram-600.png&f=1&nofb=1&ipt=d627171ef099ca8a5bb250968b0fcf17c9d4b9bea6e77038c77c3a9e89b455aa</p>"
   ]
  },
  {
   "cell_type": "markdown",
   "id": "787194d7",
   "metadata": {},
   "source": [
    "## <font color= #8FC3FA> **¿Qué son?** </font>\n",
    "\n",
    "Función principal de la ingeniería en Machine Learning que se encarga de `coordinar el proceso de desplegar modelos de Machine Learning`, abarcando la producción, mantenimiento y monitoreo. Esta tarea se lleva a cabo de manera colaborativa, de la mano de científicos de datos, developers e informáticos. "
   ]
  },
  {
   "cell_type": "markdown",
   "id": "649955d4",
   "metadata": {},
   "source": [
    "## <font color= #8FC3FA> **Usos y Objetivos** </font>"
   ]
  }
 ],
 "metadata": {
  "language_info": {
   "name": "python"
  }
 },
 "nbformat": 4,
 "nbformat_minor": 5
}
